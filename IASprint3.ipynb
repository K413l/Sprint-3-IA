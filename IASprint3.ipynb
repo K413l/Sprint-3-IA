{
 "cells": [
  {
   "cell_type": "code",
   "execution_count": 1,
   "metadata": {},
   "outputs": [],
   "source": [
    "# Importação das bibliotecas\n",
    "import pandas as pd\n",
    "import numpy as np\n",
    "from sklearn.model_selection import train_test_split\n",
    "from sklearn.ensemble import RandomForestClassifier\n",
    "from sklearn.metrics import classification_report, confusion_matrix, accuracy_score\n",
    "from sklearn.preprocessing import StandardScaler, OneHotEncoder\n",
    "from sklearn.compose import ColumnTransformer\n",
    "from sklearn.pipeline import Pipeline"
   ]
  },
  {
   "cell_type": "code",
   "execution_count": 2,
   "metadata": {},
   "outputs": [
    {
     "name": "stderr",
     "output_type": "stream",
     "text": [
      "C:\\Users\\osbar\\AppData\\Local\\Temp\\ipykernel_17232\\432654395.py:8: FutureWarning: The 'delim_whitespace' keyword in pd.read_csv is deprecated and will be removed in a future version. Use ``sep='\\s+'`` instead\n",
      "  data = pd.read_csv(url, delim_whitespace=True, header=None, names=columns)\n"
     ]
    }
   ],
   "source": [
    "# Carregamento dos dados\n",
    "url = \"https://archive.ics.uci.edu/ml/machine-learning-databases/statlog/german/german.data\"\n",
    "columns = ['Status', 'Duration', 'CreditHistory', 'Purpose', 'CreditAmount', \n",
    "           'Savings', 'Employment', 'InstallmentRate', 'PersonalStatus', \n",
    "           'OtherDebtors', 'ResidenceSince', 'Property', 'Age', 'OtherInstallmentPlans', \n",
    "           'Housing', 'ExistingCredits', 'Job', 'Liable', 'Telephone', 'ForeignWorker', 'Risk']\n",
    "\n",
    "data = pd.read_csv(url, delim_whitespace=True, header=None, names=columns)"
   ]
  },
  {
   "cell_type": "code",
   "execution_count": 3,
   "metadata": {},
   "outputs": [],
   "source": [
    "# Separação das variáveis dependentes e independentes\n",
    "X = data.drop('Risk', axis=1)  # Features\n",
    "y = data['Risk']  # Rótulo"
   ]
  },
  {
   "cell_type": "code",
   "execution_count": 4,
   "metadata": {},
   "outputs": [],
   "source": [
    "# Pré-processamento: transformar variáveis categóricas e normalizar variáveis numéricas\n",
    "numeric_features = ['Duration', 'CreditAmount', 'Age']\n",
    "categorical_features = [col for col in X.columns if col not in numeric_features]\n"
   ]
  },
  {
   "cell_type": "code",
   "execution_count": 5,
   "metadata": {},
   "outputs": [],
   "source": [
    "# Pré-processamento: transformar variáveis categóricas e normalizar variáveis numéricas\n",
    "numeric_features = ['Duration', 'CreditAmount', 'Age']\n",
    "categorical_features = [col for col in X.columns if col not in numeric_features]\n",
    "\n",
    "preprocessor = ColumnTransformer(\n",
    "    transformers=[\n",
    "        ('num', StandardScaler(), numeric_features),\n",
    "        ('cat', OneHotEncoder(), categorical_features)])"
   ]
  },
  {
   "cell_type": "code",
   "execution_count": 6,
   "metadata": {},
   "outputs": [],
   "source": [
    "# Dividir os dados em conjuntos de treino e teste\n",
    "X_train, X_test, y_train, y_test = train_test_split(X, y, test_size=0.2, random_state=42)\n",
    "\n",
    "# Criar pipeline com pré-processador e o modelo Random Forest\n",
    "model = Pipeline(steps=[\n",
    "    ('preprocessor', preprocessor),\n",
    "    ('classifier', RandomForestClassifier(n_estimators=100, random_state=42))\n",
    "])"
   ]
  },
  {
   "cell_type": "code",
   "execution_count": 7,
   "metadata": {},
   "outputs": [],
   "source": [
    "# Treinamento do modelo\n",
    "model.fit(X_train, y_train)\n",
    "\n",
    "# Previsão nos dados de teste\n",
    "y_pred = model.predict(X_test)"
   ]
  },
  {
   "cell_type": "code",
   "execution_count": 8,
   "metadata": {},
   "outputs": [
    {
     "name": "stdout",
     "output_type": "stream",
     "text": [
      "Accuracy: 0.77\n",
      "[[132   9]\n",
      " [ 37  22]]\n",
      "              precision    recall  f1-score   support\n",
      "\n",
      "           1       0.78      0.94      0.85       141\n",
      "           2       0.71      0.37      0.49        59\n",
      "\n",
      "    accuracy                           0.77       200\n",
      "   macro avg       0.75      0.65      0.67       200\n",
      "weighted avg       0.76      0.77      0.74       200\n",
      "\n"
     ]
    }
   ],
   "source": [
    "# Avaliação do modelo\n",
    "print(\"Accuracy:\", accuracy_score(y_test, y_pred))\n",
    "print(confusion_matrix(y_test, y_pred))\n",
    "print(classification_report(y_test, y_pred))"
   ]
  }
 ],
 "metadata": {
  "kernelspec": {
   "display_name": "Python 3",
   "language": "python",
   "name": "python3"
  },
  "language_info": {
   "codemirror_mode": {
    "name": "ipython",
    "version": 3
   },
   "file_extension": ".py",
   "mimetype": "text/x-python",
   "name": "python",
   "nbconvert_exporter": "python",
   "pygments_lexer": "ipython3",
   "version": "3.12.0"
  }
 },
 "nbformat": 4,
 "nbformat_minor": 2
}
